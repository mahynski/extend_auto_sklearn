{
 "cells": [
  {
   "cell_type": "code",
   "execution_count": 1,
   "metadata": {
    "ExecuteTime": {
     "end_time": "2020-07-17T14:16:45.534036Z",
     "start_time": "2020-07-17T14:16:45.530207Z"
    }
   },
   "outputs": [],
   "source": [
    "# %load_ext autoreload\n",
    "# %autoreload 2"
   ]
  },
  {
   "cell_type": "markdown",
   "metadata": {},
   "source": [
    "# Extending auto-sklearn"
   ]
  },
  {
   "cell_type": "code",
   "execution_count": 2,
   "metadata": {
    "ExecuteTime": {
     "end_time": "2020-07-17T14:16:48.052547Z",
     "start_time": "2020-07-17T14:16:47.137944Z"
    }
   },
   "outputs": [
    {
     "name": "stderr",
     "output_type": "stream",
     "text": [
      "/home/nam4/anaconda3/envs/automl/lib/python3.7/site-packages/pyparsing.py:3190: FutureWarning: Possible set intersection at position 3\n",
      "  self.re = re.compile(self.reString)\n"
     ]
    }
   ],
   "source": [
    "import extend_auto_sklearn"
   ]
  },
  {
   "cell_type": "code",
   "execution_count": 3,
   "metadata": {
    "ExecuteTime": {
     "end_time": "2020-07-17T14:16:49.629774Z",
     "start_time": "2020-07-17T14:16:49.626730Z"
    }
   },
   "outputs": [
    {
     "name": "stdout",
     "output_type": "stream",
     "text": [
      "['adaboost', 'bernoulli_nb', 'decision_tree', 'extra_trees', 'gaussian_nb', 'gradient_boosting', 'k_nearest_neighbors', 'lda', 'liblinear_svc', 'libsvm_svc', 'multinomial_nb', 'passive_aggressive', 'qda', 'random_forest', 'sgd', 'MLPClassifier'] ['adaboost', 'ard_regression', 'decision_tree', 'extra_trees', 'gaussian_process', 'gradient_boosting', 'k_nearest_neighbors', 'liblinear_svr', 'libsvm_svr', 'random_forest', 'ridge_regression', 'sgd', 'ElasticNet', 'KernelRidgeRegression', 'LinearRegression', 'MLPRegressor', 'OrthogonalMatchingPursuit', 'PLSRegression'] ['densifier', 'extra_trees_preproc_for_classification', 'extra_trees_preproc_for_regression', 'fast_ica', 'feature_agglomeration', 'kernel_pca', 'kitchen_sinks', 'liblinear_svc_preprocessor', 'no_preprocessing', 'nystroem_sampler', 'pca', 'polynomial', 'random_trees_embedding', 'select_percentile_classification', 'select_percentile_regression', 'select_rates', 'truncatedSVD', 'LDA', 'RFE', 'SparsePCA']\n"
     ]
    }
   ],
   "source": [
    "print(extend_auto_sklearn.utils.available_classifiers(),\n",
    "      extend_auto_sklearn.utils.available_regressors(),\n",
    "      extend_auto_sklearn.utils.available_feature_preprocessing()\n",
    "     )"
   ]
  },
  {
   "cell_type": "code",
   "execution_count": 4,
   "metadata": {
    "ExecuteTime": {
     "end_time": "2020-07-17T14:16:51.852793Z",
     "start_time": "2020-07-17T14:16:51.850365Z"
    }
   },
   "outputs": [],
   "source": [
    "# ??autosklearn.pipeline.components.data_preprocessing.rescaling"
   ]
  },
  {
   "cell_type": "code",
   "execution_count": 5,
   "metadata": {
    "ExecuteTime": {
     "end_time": "2020-07-17T14:16:52.354269Z",
     "start_time": "2020-07-17T14:16:52.346158Z"
    }
   },
   "outputs": [
    {
     "name": "stdout",
     "output_type": "stream",
     "text": [
      "Help on class AutoSklearnClassifier in module autosklearn.estimators:\n",
      "\n",
      "class AutoSklearnClassifier(AutoSklearnEstimator)\n",
      " |  AutoSklearnClassifier(time_left_for_this_task=3600, per_run_time_limit=None, initial_configurations_via_metalearning=25, ensemble_size: int = 50, ensemble_nbest=50, max_models_on_disc=50, ensemble_memory_limit=1024, seed=1, ml_memory_limit=3072, include_estimators=None, exclude_estimators=None, include_preprocessors=None, exclude_preprocessors=None, resampling_strategy='holdout', resampling_strategy_arguments=None, tmp_folder=None, output_folder=None, delete_tmp_folder_after_terminate=True, delete_output_folder_after_terminate=True, shared_mode=False, n_jobs: Union[int, NoneType] = None, disable_evaluator_output=False, get_smac_object_callback=None, smac_scenario_args=None, logging_config=None, metadata_directory=None, metric=None)\n",
      " |  \n",
      " |  This class implements the classification task.\n",
      " |  \n",
      " |  Method resolution order:\n",
      " |      AutoSklearnClassifier\n",
      " |      AutoSklearnEstimator\n",
      " |      sklearn.base.BaseEstimator\n",
      " |      builtins.object\n",
      " |  \n",
      " |  Methods defined here:\n",
      " |  \n",
      " |  fit(self, X, y, X_test=None, y_test=None, feat_type=None, dataset_name=None)\n",
      " |      Fit *auto-sklearn* to given training set (X, y).\n",
      " |      \n",
      " |      Fit both optimizes the machine learning models and builds an ensemble\n",
      " |      out of them. To disable ensembling, set ``ensemble_size==0``.\n",
      " |      \n",
      " |      Parameters\n",
      " |      ----------\n",
      " |      \n",
      " |      X : array-like or sparse matrix of shape = [n_samples, n_features]\n",
      " |          The training input samples.\n",
      " |      \n",
      " |      y : array-like, shape = [n_samples] or [n_samples, n_outputs]\n",
      " |          The target classes.\n",
      " |      \n",
      " |      X_test : array-like or sparse matrix of shape = [n_samples, n_features]\n",
      " |          Test data input samples. Will be used to save test predictions for\n",
      " |          all models. This allows to evaluate the performance of Auto-sklearn\n",
      " |          over time.\n",
      " |      \n",
      " |      y_test : array-like, shape = [n_samples] or [n_samples, n_outputs]\n",
      " |          Test data target classes. Will be used to calculate the test error\n",
      " |          of all models. This allows to evaluate the performance of\n",
      " |          Auto-sklearn over time.\n",
      " |      \n",
      " |      feat_type : list, optional (default=None)\n",
      " |          List of str of `len(X.shape[1])` describing the attribute type.\n",
      " |          Possible types are `Categorical` and `Numerical`. `Categorical`\n",
      " |          attributes will be automatically One-Hot encoded. The values\n",
      " |          used for a categorical attribute must be integers, obtained for\n",
      " |          example by `sklearn.preprocessing.LabelEncoder\n",
      " |          <http://scikit-learn.org/stable/modules/generated/sklearn.preprocessing.LabelEncoder.html>`_.\n",
      " |      \n",
      " |      dataset_name : str, optional (default=None)\n",
      " |          Create nicer output. If None, a string will be determined by the\n",
      " |          md5 hash of the dataset.\n",
      " |      \n",
      " |      Returns\n",
      " |      -------\n",
      " |      self\n",
      " |  \n",
      " |  predict(self, X, batch_size=None, n_jobs=1)\n",
      " |      Predict classes for X.\n",
      " |      \n",
      " |      Parameters\n",
      " |      ----------\n",
      " |      X : array-like or sparse matrix of shape = [n_samples, n_features]\n",
      " |      \n",
      " |      Returns\n",
      " |      -------\n",
      " |      y : array of shape = [n_samples] or [n_samples, n_labels]\n",
      " |          The predicted classes.\n",
      " |  \n",
      " |  predict_proba(self, X, batch_size=None, n_jobs=1)\n",
      " |      Predict probabilities of classes for all samples X.\n",
      " |      \n",
      " |      Parameters\n",
      " |      ----------\n",
      " |      X : array-like or sparse matrix of shape = [n_samples, n_features]\n",
      " |      \n",
      " |      batch_size : int (optional)\n",
      " |          Number of data points to predict for (predicts all points at once\n",
      " |          if ``None``.\n",
      " |      n_jobs : int\n",
      " |      \n",
      " |      Returns\n",
      " |      -------\n",
      " |      y : array of shape = [n_samples, n_classes] or [n_samples, n_labels]\n",
      " |          The predicted class probabilities.\n",
      " |  \n",
      " |  ----------------------------------------------------------------------\n",
      " |  Methods inherited from AutoSklearnEstimator:\n",
      " |  \n",
      " |  __init__(self, time_left_for_this_task=3600, per_run_time_limit=None, initial_configurations_via_metalearning=25, ensemble_size: int = 50, ensemble_nbest=50, max_models_on_disc=50, ensemble_memory_limit=1024, seed=1, ml_memory_limit=3072, include_estimators=None, exclude_estimators=None, include_preprocessors=None, exclude_preprocessors=None, resampling_strategy='holdout', resampling_strategy_arguments=None, tmp_folder=None, output_folder=None, delete_tmp_folder_after_terminate=True, delete_output_folder_after_terminate=True, shared_mode=False, n_jobs: Union[int, NoneType] = None, disable_evaluator_output=False, get_smac_object_callback=None, smac_scenario_args=None, logging_config=None, metadata_directory=None, metric=None)\n",
      " |      Parameters\n",
      " |      ----------\n",
      " |      time_left_for_this_task : int, optional (default=3600)\n",
      " |          Time limit in seconds for the search of appropriate\n",
      " |          models. By increasing this value, *auto-sklearn* has a higher\n",
      " |          chance of finding better models.\n",
      " |      \n",
      " |      per_run_time_limit : int, optional (default=1/10 of time_left_for_this_task)\n",
      " |          Time limit for a single call to the machine learning model.\n",
      " |          Model fitting will be terminated if the machine learning\n",
      " |          algorithm runs over the time limit. Set this value high enough so\n",
      " |          that typical machine learning algorithms can be fit on the\n",
      " |          training data.\n",
      " |      \n",
      " |      initial_configurations_via_metalearning : int, optional (default=25)\n",
      " |          Initialize the hyperparameter optimization algorithm with this\n",
      " |          many configurations which worked well on previously seen\n",
      " |          datasets. Disable if the hyperparameter optimization algorithm\n",
      " |          should start from scratch.\n",
      " |      \n",
      " |      ensemble_size : int, optional (default=50)\n",
      " |          Number of models added to the ensemble built by *Ensemble\n",
      " |          selection from libraries of models*. Models are drawn with\n",
      " |          replacement.\n",
      " |      \n",
      " |      ensemble_nbest : int, optional (default=50)\n",
      " |          Only consider the ``ensemble_nbest`` models when building an\n",
      " |          ensemble.\n",
      " |      \n",
      " |      max_models_on_disc: int, optional (default=50),\n",
      " |          Defines the maximum number of models that are kept in the disc.\n",
      " |          The additional number of models are permanently deleted. Due to the\n",
      " |          nature of this variable, it sets the upper limit on how many models\n",
      " |          can be used for an ensemble.\n",
      " |          It must be an integer greater or equal than 1.\n",
      " |          If set to None, all models are kept on the disc.\n",
      " |      \n",
      " |      ensemble_memory_limit : int, optional (1024)\n",
      " |          Memory limit in MB for the ensemble building process.\n",
      " |          `auto-sklearn` will reduce the number of considered models\n",
      " |          (``ensemble_nbest``) if the memory limit is reached.\n",
      " |      \n",
      " |      seed : int, optional (default=1)\n",
      " |          Used to seed SMAC. Will determine the output file names.\n",
      " |      \n",
      " |      ml_memory_limit : int, optional (3072)\n",
      " |          Memory limit in MB for the machine learning algorithm.\n",
      " |          `auto-sklearn` will stop fitting the machine learning algorithm if\n",
      " |          it tries to allocate more than `ml_memory_limit` MB.\n",
      " |          If None is provided, no memory limit is set.\n",
      " |          In case of multi-processing, `ml_memory_limit` will be per job.\n",
      " |      \n",
      " |      include_estimators : list, optional (None)\n",
      " |          If None, all possible estimators are used. Otherwise specifies\n",
      " |          set of estimators to use.\n",
      " |      \n",
      " |      exclude_estimators : list, optional (None)\n",
      " |          If None, all possible estimators are used. Otherwise specifies\n",
      " |          set of estimators not to use. Incompatible with include_estimators.\n",
      " |      \n",
      " |      include_preprocessors : list, optional (None)\n",
      " |          If None all possible preprocessors are used. Otherwise specifies set\n",
      " |          of preprocessors to use.\n",
      " |      \n",
      " |      exclude_preprocessors : list, optional (None)\n",
      " |          If None all possible preprocessors are used. Otherwise specifies set\n",
      " |          of preprocessors not to use. Incompatible with\n",
      " |          include_preprocessors.\n",
      " |      \n",
      " |      resampling_strategy : string or object, optional ('holdout')\n",
      " |          how to to handle overfitting, might need 'resampling_strategy_arguments'\n",
      " |      \n",
      " |          * 'holdout': 67:33 (train:test) split\n",
      " |          * 'holdout-iterative-fit':  67:33 (train:test) split, calls iterative\n",
      " |            fit where possible\n",
      " |          * 'cv': crossvalidation, requires 'folds'\n",
      " |          * 'cv-iterative-fit': crossvalidation, calls iterative fit where possible\n",
      " |          * 'partial-cv': crossvalidation with intensification, requires\n",
      " |            'folds'\n",
      " |          * BaseCrossValidator object: any BaseCrossValidator class found\n",
      " |                                      in scikit-learn model_selection module\n",
      " |          * _RepeatedSplits object: any _RepeatedSplits class found\n",
      " |                                    in scikit-learn model_selection module\n",
      " |          * BaseShuffleSplit object: any BaseShuffleSplit class found\n",
      " |                                    in scikit-learn model_selection module\n",
      " |      \n",
      " |      resampling_strategy_arguments : dict, optional if 'holdout' (train_size default=0.67)\n",
      " |          Additional arguments for resampling_strategy:\n",
      " |      \n",
      " |          * ``train_size`` should be between 0.0 and 1.0 and represent the\n",
      " |            proportion of the dataset to include in the train split.\n",
      " |          * ``shuffle`` determines whether the data is shuffled prior to\n",
      " |            splitting it into train and validation.\n",
      " |      \n",
      " |          Available arguments:\n",
      " |      \n",
      " |          * 'holdout': {'train_size': float}\n",
      " |          * 'holdout-iterative-fit':  {'train_size': float}\n",
      " |          * 'cv': {'folds': int}\n",
      " |          * 'cv-iterative-fit': {'folds': int}\n",
      " |          * 'partial-cv': {'folds': int, 'shuffle': bool}\n",
      " |          * BaseCrossValidator or _RepeatedSplits or BaseShuffleSplit object: all arguments\n",
      " |              required by chosen class as specified in scikit-learn documentation.\n",
      " |              If arguments are not provided, scikit-learn defaults are used.\n",
      " |              If no defaults are available, an exception is raised.\n",
      " |              Refer to the 'n_splits' argument as 'folds'.\n",
      " |      \n",
      " |      tmp_folder : string, optional (None)\n",
      " |          folder to store configuration output and log files, if ``None``\n",
      " |          automatically use ``/tmp/autosklearn_tmp_$pid_$random_number``\n",
      " |      \n",
      " |      output_folder : string, optional (None)\n",
      " |          folder to store predictions for optional test set, if ``None``\n",
      " |          automatically use ``/tmp/autosklearn_output_$pid_$random_number``\n",
      " |      \n",
      " |      delete_tmp_folder_after_terminate: string, optional (True)\n",
      " |          remove tmp_folder, when finished. If tmp_folder is None\n",
      " |          tmp_dir will always be deleted\n",
      " |      \n",
      " |      delete_output_folder_after_terminate: bool, optional (True)\n",
      " |          remove output_folder, when finished. If output_folder is None\n",
      " |          output_dir will always be deleted\n",
      " |      \n",
      " |      shared_mode : bool, optional (False)\n",
      " |          Run smac in shared-model-node. This only works if arguments\n",
      " |          ``tmp_folder`` and ``output_folder`` are given and both\n",
      " |          ``delete_tmp_folder_after_terminate`` and\n",
      " |          ``delete_output_folder_after_terminate`` are set to False. Cannot\n",
      " |          be used together with ``n_jobs``.\n",
      " |      \n",
      " |      n_jobs : int, optional, experimental\n",
      " |          The number of jobs to run in parallel for ``fit()``. Cannot be\n",
      " |          used together with ``shared_mode``. ``-1`` means using all\n",
      " |          processors. By default, Auto-sklearn uses a single core for\n",
      " |          fitting the machine learning model and a single core for fitting\n",
      " |          an ensemble. Ensemble building is not affected by ``n_jobs`` but\n",
      " |          can be controlled by the number of models in the ensemble. In\n",
      " |          contrast to most scikit-learn models, ``n_jobs`` given in the\n",
      " |          constructor is not applied to the ``predict()`` method.\n",
      " |      \n",
      " |      disable_evaluator_output: bool or list, optional (False)\n",
      " |          If True, disable model and prediction output. Cannot be used\n",
      " |          together with ensemble building. ``predict()`` cannot be used when\n",
      " |          setting this True. Can also be used as a list to pass more\n",
      " |          fine-grained information on what to save. Allowed elements in the\n",
      " |          list are:\n",
      " |      \n",
      " |          * ``'y_optimization'`` : do not save the predictions for the\n",
      " |            optimization/validation set, which would later on be used to build\n",
      " |            an ensemble.\n",
      " |          * ``'model'`` : do not save any model files\n",
      " |      \n",
      " |      smac_scenario_args : dict, optional (None)\n",
      " |          Additional arguments inserted into the scenario of SMAC. See the\n",
      " |          `SMAC documentation <https://automl.github.io/SMAC3/stable/options.html?highlight=scenario#scenario>`_\n",
      " |          for a list of available arguments.\n",
      " |      \n",
      " |      get_smac_object_callback : callable\n",
      " |          Callback function to create an object of class\n",
      " |          `smac.optimizer.smbo.SMBO <https://automl.github.io/SMAC3/stable/apidoc/smac.optimizer.smbo.html>`_.\n",
      " |          The function must accept the arguments ``scenario_dict``,\n",
      " |          ``instances``, ``num_params``, ``runhistory``, ``seed`` and ``ta``.\n",
      " |          This is an advanced feature. Use only if you are familiar with\n",
      " |          `SMAC <https://automl.github.io/SMAC3/stable/index.html>`_.\n",
      " |      \n",
      " |      logging_config : dict, optional (None)\n",
      " |          dictionary object specifying the logger configuration. If None,\n",
      " |          the default logging.yaml file is used, which can be found in\n",
      " |          the directory ``util/logging.yaml`` relative to the installation.\n",
      " |      \n",
      " |      metadata_directory : str, optional (None)\n",
      " |          path to the metadata directory. If None, the default directory\n",
      " |          (autosklearn.metalearning.files) is used.\n",
      " |      \n",
      " |      metric : Scorer, optional (None)\n",
      " |          An instance of :class:`autosklearn.metrics.Scorer` as created by\n",
      " |          :meth:`autosklearn.metrics.make_scorer`. These are the `Built-in\n",
      " |          Metrics`_.\n",
      " |          If None is provided, a default metric is selected depending on the task.\n",
      " |      \n",
      " |      Attributes\n",
      " |      ----------\n",
      " |      \n",
      " |      cv_results\\_ : dict of numpy (masked) ndarrays\n",
      " |          A dict with keys as column headers and values as columns, that can be\n",
      " |          imported into a pandas ``DataFrame``.\n",
      " |      \n",
      " |          Not all keys returned by scikit-learn are supported yet.\n",
      " |  \n",
      " |  build_automl(self, seed: int, shared_mode: bool, ensemble_size: int, initial_configurations_via_metalearning: int, tmp_folder: str, output_folder: str, smac_scenario_args: Union[Dict, NoneType] = None)\n",
      " |  \n",
      " |  fit_ensemble(self, y, task=None, precision='32', dataset_name=None, ensemble_nbest=None, ensemble_size=None)\n",
      " |      Fit an ensemble to models trained during an optimization process.\n",
      " |      \n",
      " |      All parameters are ``None`` by default. If no other value is given,\n",
      " |      the default values which were set in a call to ``fit()`` are used.\n",
      " |      \n",
      " |      Calling this function is only necessary if ``ensemble_size==0``, for\n",
      " |      example when executing *auto-sklearn* in parallel.\n",
      " |      \n",
      " |      Parameters\n",
      " |      ----------\n",
      " |      y : array-like\n",
      " |          Target values.\n",
      " |      \n",
      " |      task : int\n",
      " |          A constant from the module ``autosklearn.constants``. Determines\n",
      " |          the task type (binary classification, multiclass classification,\n",
      " |          multilabel classification or regression).\n",
      " |      \n",
      " |      precision : str\n",
      " |          Numeric precision used when loading ensemble data. Can be either\n",
      " |          ``'16'``, ``'32'`` or ``'64'``.\n",
      " |      \n",
      " |      dataset_name : str\n",
      " |          Name of the current data set.\n",
      " |      \n",
      " |      ensemble_nbest : int\n",
      " |          Determines how many models should be considered from the ensemble\n",
      " |          building. This is inspired by a concept called library pruning\n",
      " |          introduced in `Getting Most out of Ensemble Selection`.\n",
      " |      \n",
      " |      ensemble_size : int\n",
      " |          Size of the ensemble built by `Ensemble Selection`.\n",
      " |      \n",
      " |      Returns\n",
      " |      -------\n",
      " |      self\n",
      " |  \n",
      " |  get_configuration_space(self, X, y)\n",
      " |  \n",
      " |  get_models_with_weights(self)\n",
      " |      Return a list of the final ensemble found by auto-sklearn.\n",
      " |      \n",
      " |      Returns\n",
      " |      -------\n",
      " |      [(weight_1, model_1), ..., (weight_n, model_n)]\n",
      " |  \n",
      " |  refit(self, X, y)\n",
      " |      Refit all models found with fit to new data.\n",
      " |      \n",
      " |      Necessary when using cross-validation. During training, auto-sklearn\n",
      " |      fits each model k times on the dataset, but does not keep any trained\n",
      " |      model and can therefore not be used to predict for new data points.\n",
      " |      This methods fits all models found during a call to fit on the data\n",
      " |      given. This method may also be used together with holdout to avoid\n",
      " |      only using 66% of the training data to fit the final model.\n",
      " |      \n",
      " |      Parameters\n",
      " |      ----------\n",
      " |      \n",
      " |      X : array-like or sparse matrix of shape = [n_samples, n_features]\n",
      " |          The training input samples.\n",
      " |      \n",
      " |      y : array-like, shape = [n_samples] or [n_samples, n_outputs]\n",
      " |          The targets.\n",
      " |      \n",
      " |      Returns\n",
      " |      -------\n",
      " |      \n",
      " |      self\n",
      " |  \n",
      " |  score(self, X, y)\n",
      " |  \n",
      " |  show_models(self)\n",
      " |      Return a representation of the final ensemble found by auto-sklearn.\n",
      " |      \n",
      " |      Returns\n",
      " |      -------\n",
      " |      str\n",
      " |  \n",
      " |  sprint_statistics(self)\n",
      " |      Return the following statistics of the training result:\n",
      " |      \n",
      " |      - dataset name\n",
      " |      - metric used\n",
      " |      - best validation score\n",
      " |      - number of target algorithm runs\n",
      " |      - number of successful target algorithm runs\n",
      " |      - number of crashed target algorithm runs\n",
      " |      - number of target algorithm runs that exceeded the memory limit\n",
      " |      - number of target algorithm runs that exceeded the time limit\n",
      " |      \n",
      " |      Returns\n",
      " |      -------\n",
      " |      str\n",
      " |  \n",
      " |  ----------------------------------------------------------------------\n",
      " |  Data descriptors inherited from AutoSklearnEstimator:\n",
      " |  \n",
      " |  cv_results_\n",
      " |  \n",
      " |  fANOVA_input_\n",
      " |  \n",
      " |  trajectory_\n",
      " |  \n",
      " |  ----------------------------------------------------------------------\n",
      " |  Methods inherited from sklearn.base.BaseEstimator:\n",
      " |  \n",
      " |  __getstate__(self)\n",
      " |  \n",
      " |  __repr__(self, N_CHAR_MAX=700)\n",
      " |      Return repr(self).\n",
      " |  \n",
      " |  __setstate__(self, state)\n",
      " |  \n",
      " |  get_params(self, deep=True)\n",
      " |      Get parameters for this estimator.\n",
      " |      \n",
      " |      Parameters\n",
      " |      ----------\n",
      " |      deep : bool, default=True\n",
      " |          If True, will return the parameters for this estimator and\n",
      " |          contained subobjects that are estimators.\n",
      " |      \n",
      " |      Returns\n",
      " |      -------\n",
      " |      params : mapping of string to any\n",
      " |          Parameter names mapped to their values.\n",
      " |  \n",
      " |  set_params(self, **params)\n",
      " |      Set the parameters of this estimator.\n",
      " |      \n",
      " |      The method works on simple estimators as well as on nested objects\n",
      " |      (such as pipelines). The latter have parameters of the form\n",
      " |      ``<component>__<parameter>`` so that it's possible to update each\n",
      " |      component of a nested object.\n",
      " |      \n",
      " |      Parameters\n",
      " |      ----------\n",
      " |      **params : dict\n",
      " |          Estimator parameters.\n",
      " |      \n",
      " |      Returns\n",
      " |      -------\n",
      " |      self : object\n",
      " |          Estimator instance.\n",
      " |  \n",
      " |  ----------------------------------------------------------------------\n",
      " |  Data descriptors inherited from sklearn.base.BaseEstimator:\n",
      " |  \n",
      " |  __dict__\n",
      " |      dictionary for instance variables (if defined)\n",
      " |  \n",
      " |  __weakref__\n",
      " |      list of weak references to the object (if defined)\n",
      "\n"
     ]
    }
   ],
   "source": [
    "import autosklearn\n",
    "help(autosklearn.classification.AutoSklearnClassifier)"
   ]
  },
  {
   "cell_type": "code",
   "execution_count": 6,
   "metadata": {
    "ExecuteTime": {
     "end_time": "2020-07-17T14:16:54.417723Z",
     "start_time": "2020-07-17T14:16:54.390070Z"
    }
   },
   "outputs": [],
   "source": [
    "from sklearn.datasets import load_breast_cancer\n",
    "from sklearn.model_selection import train_test_split\n",
    "X, y = load_breast_cancer(return_X_y=True)\n",
    "X_train, X_test, y_train, y_test = train_test_split(X, y)"
   ]
  },
  {
   "cell_type": "code",
   "execution_count": 38,
   "metadata": {
    "ExecuteTime": {
     "end_time": "2020-07-20T18:08:33.714335Z",
     "start_time": "2020-07-20T18:07:39.412130Z"
    },
    "scrolled": true
   },
   "outputs": [
    {
     "name": "stdout",
     "output_type": "stream",
     "text": [
      "[WARNING] [2020-07-20 14:07:39,615:AutoML(327741615):8c16e1608c3a85474332a77daade4c35] Capping the per_run_time_limit to 29.0 to have time for a least 2 models in each process.\n",
      "[WARNING] [2020-07-20 14:07:39,620:AutoML(3751350723):8c16e1608c3a85474332a77daade4c35] Capping the per_run_time_limit to 29.0 to have time for a least 2 models in each process.\n",
      "[WARNING] [2020-07-20 14:07:39,629:AutoML(3834805130):8c16e1608c3a85474332a77daade4c35] Capping the per_run_time_limit to 29.0 to have time for a least 2 models in each process.\n",
      "[WARNING] [2020-07-20 14:07:39,641:AutoML(953453411):8c16e1608c3a85474332a77daade4c35] Capping the per_run_time_limit to 29.0 to have time for a least 2 models in each process.\n",
      "[WARNING] [2020-07-20 14:08:33,471:smac.runhistory.runhistory.RunHistory] Encountered exception Expecting value: line 1 column 1 (char 0) while reading runhistory from /tmp/autosklearn_tmp_e5f56c62-cab3-11ea-a06d-0862664cffa0/smac3-output/run_3834805130/runhistory.json. Not adding any runs!\n"
     ]
    },
    {
     "name": "stderr",
     "output_type": "stream",
     "text": [
      "/home/nam4/anaconda3/envs/automl/lib/python3.7/site-packages/sklearn/base.py:197: FutureWarning: From version 0.24, get_params will raise an AttributeError if a parameter cannot be retrieved as an instance attribute. Previously it would return None.\n",
      "  FutureWarning)\n"
     ]
    },
    {
     "data": {
      "text/plain": [
       "AutoSklearnClassifier(delete_output_folder_after_terminate=False,\n",
       "                      delete_tmp_folder_after_terminate=False,\n",
       "                      disable_evaluator_output=False,\n",
       "                      ensemble_memory_limit=1024, ensemble_nbest=50,\n",
       "                      ensemble_size=1, exclude_estimators=None,\n",
       "                      exclude_preprocessors=None, get_smac_object_callback=None,\n",
       "                      include_estimators=None,\n",
       "                      include_preprocessors=['no_preprocessing'],\n",
       "                      initial_configurations_via_metalearning=25,\n",
       "                      logging_config=None, max_models_on_disc=1,\n",
       "                      metadata_directory=None, metric=None, ml_memory_limit=256,\n",
       "                      n_jobs=4, output_folder='./output/',\n",
       "                      per_run_time_limit=30, resampling_strategy='cv',\n",
       "                      resampling_strategy_arguments={'folds': 5}, seed=5,\n",
       "                      shared_mode=False, smac_scenario_args=None,\n",
       "                      time_left_for_this_task=60, tmp_folder=None)"
      ]
     },
     "execution_count": 38,
     "metadata": {},
     "output_type": "execute_result"
    }
   ],
   "source": [
    "# For a single machine\n",
    "import autosklearn\n",
    "from sklearn.model_selection import RepeatedStratifiedKFold, RepeatedKFold, KFold\n",
    "\n",
    "total_mem = 2**10 # 8 GB, ^14 = 16 GB\n",
    "n_jobs = 4\n",
    "\n",
    "clf = autosklearn.classification.AutoSklearnClassifier(\n",
    "    time_left_for_this_task=60, # wallclock\n",
    "    per_run_time_limit=30,\n",
    "    include_preprocessors=['no_preprocessing'],\n",
    "#     include_estimators=['MLPClassifier'],\n",
    "#     exclude_estimators=['dummy'],\n",
    "    n_jobs=n_jobs,\n",
    "    ml_memory_limit=total_mem//n_jobs,\n",
    "    seed=5,\n",
    "    ensemble_size=1, # vanilla\n",
    "    max_models_on_disc=1,\n",
    "    initial_configurations_via_metalearning=25,#0, # vanilla\n",
    "    delete_tmp_folder_after_terminate=True,\n",
    "    resampling_strategy='cv',\n",
    "    resampling_strategy_arguments={'folds':5},\n",
    "    output_folder='./output/',\n",
    "    delete_output_folder_after_terminate=False,\n",
    "#     resampling_strategy=KFold,\n",
    "#     resampling_strategy_arguments= {'n_splits':3, # k-fold \n",
    "#                                     'shuffle':True,\n",
    "#                                    'random_state':0}\n",
    ")\n",
    "clf.fit(X_train, y_train)"
   ]
  },
  {
   "cell_type": "code",
   "execution_count": 42,
   "metadata": {
    "ExecuteTime": {
     "end_time": "2020-07-20T20:06:15.499225Z",
     "start_time": "2020-07-20T20:06:15.376306Z"
    }
   },
   "outputs": [],
   "source": [
    "%ls output"
   ]
  },
  {
   "cell_type": "code",
   "execution_count": 43,
   "metadata": {
    "ExecuteTime": {
     "end_time": "2020-07-20T20:06:17.882458Z",
     "start_time": "2020-07-20T20:06:17.852850Z"
    },
    "scrolled": true
   },
   "outputs": [
    {
     "name": "stdout",
     "output_type": "stream",
     "text": [
      "accuracy:  0.958041958041958\n",
      "auto-sklearn results:\n",
      "  Dataset name: 8c16e1608c3a85474332a77daade4c35\n",
      "  Metric: accuracy\n",
      "  Best validation score: 0.964789\n",
      "  Number of target algorithm runs: 26\n",
      "  Number of successful target algorithm runs: 18\n",
      "  Number of crashed target algorithm runs: 3\n",
      "  Number of target algorithms that exceeded the time limit: 5\n",
      "  Number of target algorithms that exceeded the memory limit: 0\n",
      "\n"
     ]
    }
   ],
   "source": [
    "import sklearn\n",
    "clf.refit(X_train, y_train)\n",
    "y_pred = clf.predict(X_test)\n",
    "print(\"accuracy: \", sklearn.metrics.accuracy_score(y_pred, y_test))\n",
    "print(clf.sprint_statistics())"
   ]
  },
  {
   "cell_type": "code",
   "execution_count": 47,
   "metadata": {
    "ExecuteTime": {
     "end_time": "2020-07-20T20:06:45.447988Z",
     "start_time": "2020-07-20T20:06:45.432336Z"
    }
   },
   "outputs": [
    {
     "data": {
      "text/plain": [
       "9"
      ]
     },
     "execution_count": 47,
     "metadata": {},
     "output_type": "execute_result"
    }
   ],
   "source": [
    "import numpy as np\n",
    "np.argmax(clf.cv_results_['mean_test_score'])"
   ]
  },
  {
   "cell_type": "code",
   "execution_count": 56,
   "metadata": {
    "ExecuteTime": {
     "end_time": "2020-07-20T20:17:30.409870Z",
     "start_time": "2020-07-20T20:17:30.396185Z"
    },
    "scrolled": true
   },
   "outputs": [
    {
     "data": {
      "text/plain": [
       "dict_keys(['mean_test_score', 'mean_fit_time', 'params', 'rank_test_scores', 'status', 'budgets', 'param_balancing:strategy', 'param_classifier:__choice__', 'param_data_preprocessing:categorical_transformer:categorical_encoding:__choice__', 'param_data_preprocessing:categorical_transformer:category_coalescence:__choice__', 'param_data_preprocessing:numerical_transformer:imputation:strategy', 'param_data_preprocessing:numerical_transformer:rescaling:__choice__', 'param_feature_preprocessor:__choice__', 'param_classifier:MLPClassifier:activation', 'param_classifier:MLPClassifier:alpha', 'param_classifier:MLPClassifier:hidden_layer_depth', 'param_classifier:MLPClassifier:num_nodes_per_layer', 'param_classifier:MLPClassifier:solver', 'param_classifier:adaboost:algorithm', 'param_classifier:adaboost:learning_rate', 'param_classifier:adaboost:max_depth', 'param_classifier:adaboost:n_estimators', 'param_classifier:bernoulli_nb:alpha', 'param_classifier:bernoulli_nb:fit_prior', 'param_classifier:decision_tree:criterion', 'param_classifier:decision_tree:max_depth_factor', 'param_classifier:decision_tree:max_features', 'param_classifier:decision_tree:max_leaf_nodes', 'param_classifier:decision_tree:min_impurity_decrease', 'param_classifier:decision_tree:min_samples_leaf', 'param_classifier:decision_tree:min_samples_split', 'param_classifier:decision_tree:min_weight_fraction_leaf', 'param_classifier:extra_trees:bootstrap', 'param_classifier:extra_trees:criterion', 'param_classifier:extra_trees:max_depth', 'param_classifier:extra_trees:max_features', 'param_classifier:extra_trees:max_leaf_nodes', 'param_classifier:extra_trees:min_impurity_decrease', 'param_classifier:extra_trees:min_samples_leaf', 'param_classifier:extra_trees:min_samples_split', 'param_classifier:extra_trees:min_weight_fraction_leaf', 'param_classifier:gradient_boosting:early_stop', 'param_classifier:gradient_boosting:l2_regularization', 'param_classifier:gradient_boosting:learning_rate', 'param_classifier:gradient_boosting:loss', 'param_classifier:gradient_boosting:max_bins', 'param_classifier:gradient_boosting:max_depth', 'param_classifier:gradient_boosting:max_leaf_nodes', 'param_classifier:gradient_boosting:min_samples_leaf', 'param_classifier:gradient_boosting:scoring', 'param_classifier:gradient_boosting:tol', 'param_classifier:k_nearest_neighbors:n_neighbors', 'param_classifier:k_nearest_neighbors:p', 'param_classifier:k_nearest_neighbors:weights', 'param_classifier:lda:n_components', 'param_classifier:lda:shrinkage', 'param_classifier:lda:tol', 'param_classifier:liblinear_svc:C', 'param_classifier:liblinear_svc:dual', 'param_classifier:liblinear_svc:fit_intercept', 'param_classifier:liblinear_svc:intercept_scaling', 'param_classifier:liblinear_svc:loss', 'param_classifier:liblinear_svc:multi_class', 'param_classifier:liblinear_svc:penalty', 'param_classifier:liblinear_svc:tol', 'param_classifier:libsvm_svc:C', 'param_classifier:libsvm_svc:gamma', 'param_classifier:libsvm_svc:kernel', 'param_classifier:libsvm_svc:max_iter', 'param_classifier:libsvm_svc:shrinking', 'param_classifier:libsvm_svc:tol', 'param_classifier:passive_aggressive:C', 'param_classifier:passive_aggressive:average', 'param_classifier:passive_aggressive:fit_intercept', 'param_classifier:passive_aggressive:loss', 'param_classifier:passive_aggressive:tol', 'param_classifier:qda:reg_param', 'param_classifier:random_forest:bootstrap', 'param_classifier:random_forest:criterion', 'param_classifier:random_forest:max_depth', 'param_classifier:random_forest:max_features', 'param_classifier:random_forest:max_leaf_nodes', 'param_classifier:random_forest:min_impurity_decrease', 'param_classifier:random_forest:min_samples_leaf', 'param_classifier:random_forest:min_samples_split', 'param_classifier:random_forest:min_weight_fraction_leaf', 'param_classifier:sgd:alpha', 'param_classifier:sgd:average', 'param_classifier:sgd:fit_intercept', 'param_classifier:sgd:learning_rate', 'param_classifier:sgd:loss', 'param_classifier:sgd:penalty', 'param_classifier:sgd:tol', 'param_data_preprocessing:categorical_transformer:category_coalescence:minority_coalescer:minimum_fraction', 'param_data_preprocessing:numerical_transformer:rescaling:quantile_transformer:n_quantiles', 'param_data_preprocessing:numerical_transformer:rescaling:quantile_transformer:output_distribution', 'param_data_preprocessing:numerical_transformer:rescaling:robust_scaler:q_max', 'param_data_preprocessing:numerical_transformer:rescaling:robust_scaler:q_min', 'param_classifier:gradient_boosting:n_iter_no_change', 'param_classifier:gradient_boosting:validation_fraction', 'param_classifier:lda:shrinkage_factor', 'param_classifier:libsvm_svc:coef0', 'param_classifier:libsvm_svc:degree', 'param_classifier:sgd:epsilon', 'param_classifier:sgd:eta0', 'param_classifier:sgd:l1_ratio', 'param_classifier:sgd:power_t'])"
      ]
     },
     "execution_count": 56,
     "metadata": {},
     "output_type": "execute_result"
    }
   ],
   "source": [
    "clf.cv_results_.keys()#['params'][9]"
   ]
  },
  {
   "cell_type": "code",
   "execution_count": 33,
   "metadata": {
    "ExecuteTime": {
     "end_time": "2020-07-09T14:04:54.560680Z",
     "start_time": "2020-07-09T14:04:54.534459Z"
    }
   },
   "outputs": [],
   "source": [
    "import pandas as pd\n",
    "df = pd.DataFrame(clf.cv_results_)"
   ]
  },
  {
   "cell_type": "code",
   "execution_count": 34,
   "metadata": {
    "ExecuteTime": {
     "end_time": "2020-07-09T14:04:57.094396Z",
     "start_time": "2020-07-09T14:04:57.073879Z"
    },
    "scrolled": true
   },
   "outputs": [
    {
     "data": {
      "text/html": [
       "<div>\n",
       "<style scoped>\n",
       "    .dataframe tbody tr th:only-of-type {\n",
       "        vertical-align: middle;\n",
       "    }\n",
       "\n",
       "    .dataframe tbody tr th {\n",
       "        vertical-align: top;\n",
       "    }\n",
       "\n",
       "    .dataframe thead th {\n",
       "        text-align: right;\n",
       "    }\n",
       "</style>\n",
       "<table border=\"1\" class=\"dataframe\">\n",
       "  <thead>\n",
       "    <tr style=\"text-align: right;\">\n",
       "      <th></th>\n",
       "      <th>mean_test_score</th>\n",
       "      <th>mean_fit_time</th>\n",
       "      <th>params</th>\n",
       "      <th>rank_test_scores</th>\n",
       "      <th>status</th>\n",
       "      <th>budgets</th>\n",
       "      <th>param_balancing:strategy</th>\n",
       "      <th>param_classifier:__choice__</th>\n",
       "      <th>param_data_preprocessing:categorical_transformer:categorical_encoding:__choice__</th>\n",
       "      <th>param_data_preprocessing:categorical_transformer:category_coalescence:__choice__</th>\n",
       "      <th>...</th>\n",
       "      <th>param_feature_preprocessor:RFE:svc_loss</th>\n",
       "      <th>param_feature_preprocessor:RFE:svc_penalty</th>\n",
       "      <th>param_feature_preprocessor:fast_ica:n_components</th>\n",
       "      <th>param_feature_preprocessor:kernel_pca:coef0</th>\n",
       "      <th>param_feature_preprocessor:kernel_pca:degree</th>\n",
       "      <th>param_feature_preprocessor:kernel_pca:gamma</th>\n",
       "      <th>param_feature_preprocessor:nystroem_sampler:coef0</th>\n",
       "      <th>param_feature_preprocessor:nystroem_sampler:degree</th>\n",
       "      <th>param_feature_preprocessor:nystroem_sampler:gamma</th>\n",
       "      <th>param_feature_preprocessor:RFE:lr_intercept_scaling</th>\n",
       "    </tr>\n",
       "  </thead>\n",
       "  <tbody>\n",
       "    <tr>\n",
       "      <th>0</th>\n",
       "      <td>0.957447</td>\n",
       "      <td>1.333446</td>\n",
       "      <td>{'balancing:strategy': 'none', 'classifier:__c...</td>\n",
       "      <td>3</td>\n",
       "      <td>Success</td>\n",
       "      <td>0.0</td>\n",
       "      <td>none</td>\n",
       "      <td>MLPClassifier</td>\n",
       "      <td>one_hot_encoding</td>\n",
       "      <td>minority_coalescer</td>\n",
       "      <td>...</td>\n",
       "      <td>NaN</td>\n",
       "      <td>NaN</td>\n",
       "      <td>NaN</td>\n",
       "      <td>NaN</td>\n",
       "      <td>NaN</td>\n",
       "      <td>NaN</td>\n",
       "      <td>NaN</td>\n",
       "      <td>NaN</td>\n",
       "      <td>NaN</td>\n",
       "      <td>NaN</td>\n",
       "    </tr>\n",
       "    <tr>\n",
       "      <th>1</th>\n",
       "      <td>0.000000</td>\n",
       "      <td>0.872477</td>\n",
       "      <td>{'balancing:strategy': 'weighting', 'classifie...</td>\n",
       "      <td>6</td>\n",
       "      <td>Crash</td>\n",
       "      <td>0.0</td>\n",
       "      <td>weighting</td>\n",
       "      <td>MLPClassifier</td>\n",
       "      <td>one_hot_encoding</td>\n",
       "      <td>no_coalescense</td>\n",
       "      <td>...</td>\n",
       "      <td>NaN</td>\n",
       "      <td>NaN</td>\n",
       "      <td>NaN</td>\n",
       "      <td>-0.867492</td>\n",
       "      <td>NaN</td>\n",
       "      <td>NaN</td>\n",
       "      <td>NaN</td>\n",
       "      <td>NaN</td>\n",
       "      <td>NaN</td>\n",
       "      <td>NaN</td>\n",
       "    </tr>\n",
       "    <tr>\n",
       "      <th>2</th>\n",
       "      <td>0.609929</td>\n",
       "      <td>1.656720</td>\n",
       "      <td>{'balancing:strategy': 'weighting', 'classifie...</td>\n",
       "      <td>5</td>\n",
       "      <td>Success</td>\n",
       "      <td>0.0</td>\n",
       "      <td>weighting</td>\n",
       "      <td>MLPClassifier</td>\n",
       "      <td>no_encoding</td>\n",
       "      <td>no_coalescense</td>\n",
       "      <td>...</td>\n",
       "      <td>NaN</td>\n",
       "      <td>NaN</td>\n",
       "      <td>NaN</td>\n",
       "      <td>NaN</td>\n",
       "      <td>NaN</td>\n",
       "      <td>NaN</td>\n",
       "      <td>NaN</td>\n",
       "      <td>NaN</td>\n",
       "      <td>0.000638</td>\n",
       "      <td>NaN</td>\n",
       "    </tr>\n",
       "    <tr>\n",
       "      <th>3</th>\n",
       "      <td>0.000000</td>\n",
       "      <td>10.034503</td>\n",
       "      <td>{'balancing:strategy': 'weighting', 'classifie...</td>\n",
       "      <td>6</td>\n",
       "      <td>Timeout</td>\n",
       "      <td>0.0</td>\n",
       "      <td>weighting</td>\n",
       "      <td>MLPClassifier</td>\n",
       "      <td>no_encoding</td>\n",
       "      <td>minority_coalescer</td>\n",
       "      <td>...</td>\n",
       "      <td>NaN</td>\n",
       "      <td>NaN</td>\n",
       "      <td>NaN</td>\n",
       "      <td>NaN</td>\n",
       "      <td>NaN</td>\n",
       "      <td>NaN</td>\n",
       "      <td>NaN</td>\n",
       "      <td>NaN</td>\n",
       "      <td>0.019826</td>\n",
       "      <td>NaN</td>\n",
       "    </tr>\n",
       "    <tr>\n",
       "      <th>4</th>\n",
       "      <td>0.971631</td>\n",
       "      <td>3.343013</td>\n",
       "      <td>{'balancing:strategy': 'none', 'classifier:__c...</td>\n",
       "      <td>1</td>\n",
       "      <td>Success</td>\n",
       "      <td>0.0</td>\n",
       "      <td>none</td>\n",
       "      <td>MLPClassifier</td>\n",
       "      <td>no_encoding</td>\n",
       "      <td>minority_coalescer</td>\n",
       "      <td>...</td>\n",
       "      <td>NaN</td>\n",
       "      <td>NaN</td>\n",
       "      <td>NaN</td>\n",
       "      <td>NaN</td>\n",
       "      <td>NaN</td>\n",
       "      <td>NaN</td>\n",
       "      <td>NaN</td>\n",
       "      <td>NaN</td>\n",
       "      <td>NaN</td>\n",
       "      <td>NaN</td>\n",
       "    </tr>\n",
       "    <tr>\n",
       "      <th>5</th>\n",
       "      <td>0.950355</td>\n",
       "      <td>7.989585</td>\n",
       "      <td>{'balancing:strategy': 'none', 'classifier:__c...</td>\n",
       "      <td>4</td>\n",
       "      <td>Success</td>\n",
       "      <td>0.0</td>\n",
       "      <td>none</td>\n",
       "      <td>MLPClassifier</td>\n",
       "      <td>one_hot_encoding</td>\n",
       "      <td>minority_coalescer</td>\n",
       "      <td>...</td>\n",
       "      <td>NaN</td>\n",
       "      <td>NaN</td>\n",
       "      <td>NaN</td>\n",
       "      <td>NaN</td>\n",
       "      <td>NaN</td>\n",
       "      <td>NaN</td>\n",
       "      <td>NaN</td>\n",
       "      <td>NaN</td>\n",
       "      <td>NaN</td>\n",
       "      <td>NaN</td>\n",
       "    </tr>\n",
       "    <tr>\n",
       "      <th>6</th>\n",
       "      <td>0.971631</td>\n",
       "      <td>2.682534</td>\n",
       "      <td>{'balancing:strategy': 'weighting', 'classifie...</td>\n",
       "      <td>1</td>\n",
       "      <td>Success</td>\n",
       "      <td>0.0</td>\n",
       "      <td>weighting</td>\n",
       "      <td>MLPClassifier</td>\n",
       "      <td>no_encoding</td>\n",
       "      <td>no_coalescense</td>\n",
       "      <td>...</td>\n",
       "      <td>NaN</td>\n",
       "      <td>NaN</td>\n",
       "      <td>NaN</td>\n",
       "      <td>-0.156617</td>\n",
       "      <td>3.0</td>\n",
       "      <td>0.012413</td>\n",
       "      <td>NaN</td>\n",
       "      <td>NaN</td>\n",
       "      <td>NaN</td>\n",
       "      <td>NaN</td>\n",
       "    </tr>\n",
       "    <tr>\n",
       "      <th>7</th>\n",
       "      <td>0.000000</td>\n",
       "      <td>10.008995</td>\n",
       "      <td>{'balancing:strategy': 'none', 'classifier:__c...</td>\n",
       "      <td>6</td>\n",
       "      <td>Timeout</td>\n",
       "      <td>0.0</td>\n",
       "      <td>none</td>\n",
       "      <td>MLPClassifier</td>\n",
       "      <td>one_hot_encoding</td>\n",
       "      <td>no_coalescense</td>\n",
       "      <td>...</td>\n",
       "      <td>NaN</td>\n",
       "      <td>NaN</td>\n",
       "      <td>NaN</td>\n",
       "      <td>NaN</td>\n",
       "      <td>NaN</td>\n",
       "      <td>NaN</td>\n",
       "      <td>NaN</td>\n",
       "      <td>NaN</td>\n",
       "      <td>NaN</td>\n",
       "      <td>NaN</td>\n",
       "    </tr>\n",
       "    <tr>\n",
       "      <th>8</th>\n",
       "      <td>0.000000</td>\n",
       "      <td>10.026057</td>\n",
       "      <td>{'balancing:strategy': 'weighting', 'classifie...</td>\n",
       "      <td>6</td>\n",
       "      <td>Timeout</td>\n",
       "      <td>0.0</td>\n",
       "      <td>weighting</td>\n",
       "      <td>MLPClassifier</td>\n",
       "      <td>no_encoding</td>\n",
       "      <td>no_coalescense</td>\n",
       "      <td>...</td>\n",
       "      <td>NaN</td>\n",
       "      <td>NaN</td>\n",
       "      <td>NaN</td>\n",
       "      <td>NaN</td>\n",
       "      <td>NaN</td>\n",
       "      <td>NaN</td>\n",
       "      <td>NaN</td>\n",
       "      <td>NaN</td>\n",
       "      <td>NaN</td>\n",
       "      <td>NaN</td>\n",
       "    </tr>\n",
       "    <tr>\n",
       "      <th>9</th>\n",
       "      <td>0.000000</td>\n",
       "      <td>1.045398</td>\n",
       "      <td>{'balancing:strategy': 'none', 'classifier:__c...</td>\n",
       "      <td>6</td>\n",
       "      <td>Timeout</td>\n",
       "      <td>0.0</td>\n",
       "      <td>none</td>\n",
       "      <td>MLPClassifier</td>\n",
       "      <td>no_encoding</td>\n",
       "      <td>minority_coalescer</td>\n",
       "      <td>...</td>\n",
       "      <td>NaN</td>\n",
       "      <td>NaN</td>\n",
       "      <td>NaN</td>\n",
       "      <td>NaN</td>\n",
       "      <td>NaN</td>\n",
       "      <td>NaN</td>\n",
       "      <td>NaN</td>\n",
       "      <td>NaN</td>\n",
       "      <td>NaN</td>\n",
       "      <td>NaN</td>\n",
       "    </tr>\n",
       "    <tr>\n",
       "      <th>10</th>\n",
       "      <td>0.000000</td>\n",
       "      <td>1.016564</td>\n",
       "      <td>{'balancing:strategy': 'weighting', 'classifie...</td>\n",
       "      <td>6</td>\n",
       "      <td>Timeout</td>\n",
       "      <td>0.0</td>\n",
       "      <td>weighting</td>\n",
       "      <td>MLPClassifier</td>\n",
       "      <td>one_hot_encoding</td>\n",
       "      <td>no_coalescense</td>\n",
       "      <td>...</td>\n",
       "      <td>NaN</td>\n",
       "      <td>NaN</td>\n",
       "      <td>NaN</td>\n",
       "      <td>NaN</td>\n",
       "      <td>NaN</td>\n",
       "      <td>0.075397</td>\n",
       "      <td>NaN</td>\n",
       "      <td>NaN</td>\n",
       "      <td>NaN</td>\n",
       "      <td>NaN</td>\n",
       "    </tr>\n",
       "  </tbody>\n",
       "</table>\n",
       "<p>11 rows × 103 columns</p>\n",
       "</div>"
      ],
      "text/plain": [
       "    mean_test_score  mean_fit_time  \\\n",
       "0          0.957447       1.333446   \n",
       "1          0.000000       0.872477   \n",
       "2          0.609929       1.656720   \n",
       "3          0.000000      10.034503   \n",
       "4          0.971631       3.343013   \n",
       "5          0.950355       7.989585   \n",
       "6          0.971631       2.682534   \n",
       "7          0.000000      10.008995   \n",
       "8          0.000000      10.026057   \n",
       "9          0.000000       1.045398   \n",
       "10         0.000000       1.016564   \n",
       "\n",
       "                                               params  rank_test_scores  \\\n",
       "0   {'balancing:strategy': 'none', 'classifier:__c...                 3   \n",
       "1   {'balancing:strategy': 'weighting', 'classifie...                 6   \n",
       "2   {'balancing:strategy': 'weighting', 'classifie...                 5   \n",
       "3   {'balancing:strategy': 'weighting', 'classifie...                 6   \n",
       "4   {'balancing:strategy': 'none', 'classifier:__c...                 1   \n",
       "5   {'balancing:strategy': 'none', 'classifier:__c...                 4   \n",
       "6   {'balancing:strategy': 'weighting', 'classifie...                 1   \n",
       "7   {'balancing:strategy': 'none', 'classifier:__c...                 6   \n",
       "8   {'balancing:strategy': 'weighting', 'classifie...                 6   \n",
       "9   {'balancing:strategy': 'none', 'classifier:__c...                 6   \n",
       "10  {'balancing:strategy': 'weighting', 'classifie...                 6   \n",
       "\n",
       "     status  budgets param_balancing:strategy param_classifier:__choice__  \\\n",
       "0   Success      0.0                     none               MLPClassifier   \n",
       "1     Crash      0.0                weighting               MLPClassifier   \n",
       "2   Success      0.0                weighting               MLPClassifier   \n",
       "3   Timeout      0.0                weighting               MLPClassifier   \n",
       "4   Success      0.0                     none               MLPClassifier   \n",
       "5   Success      0.0                     none               MLPClassifier   \n",
       "6   Success      0.0                weighting               MLPClassifier   \n",
       "7   Timeout      0.0                     none               MLPClassifier   \n",
       "8   Timeout      0.0                weighting               MLPClassifier   \n",
       "9   Timeout      0.0                     none               MLPClassifier   \n",
       "10  Timeout      0.0                weighting               MLPClassifier   \n",
       "\n",
       "   param_data_preprocessing:categorical_transformer:categorical_encoding:__choice__  \\\n",
       "0                                    one_hot_encoding                                 \n",
       "1                                    one_hot_encoding                                 \n",
       "2                                         no_encoding                                 \n",
       "3                                         no_encoding                                 \n",
       "4                                         no_encoding                                 \n",
       "5                                    one_hot_encoding                                 \n",
       "6                                         no_encoding                                 \n",
       "7                                    one_hot_encoding                                 \n",
       "8                                         no_encoding                                 \n",
       "9                                         no_encoding                                 \n",
       "10                                   one_hot_encoding                                 \n",
       "\n",
       "   param_data_preprocessing:categorical_transformer:category_coalescence:__choice__  \\\n",
       "0                                  minority_coalescer                                 \n",
       "1                                      no_coalescense                                 \n",
       "2                                      no_coalescense                                 \n",
       "3                                  minority_coalescer                                 \n",
       "4                                  minority_coalescer                                 \n",
       "5                                  minority_coalescer                                 \n",
       "6                                      no_coalescense                                 \n",
       "7                                      no_coalescense                                 \n",
       "8                                      no_coalescense                                 \n",
       "9                                  minority_coalescer                                 \n",
       "10                                     no_coalescense                                 \n",
       "\n",
       "    ... param_feature_preprocessor:RFE:svc_loss  \\\n",
       "0   ...                                     NaN   \n",
       "1   ...                                     NaN   \n",
       "2   ...                                     NaN   \n",
       "3   ...                                     NaN   \n",
       "4   ...                                     NaN   \n",
       "5   ...                                     NaN   \n",
       "6   ...                                     NaN   \n",
       "7   ...                                     NaN   \n",
       "8   ...                                     NaN   \n",
       "9   ...                                     NaN   \n",
       "10  ...                                     NaN   \n",
       "\n",
       "   param_feature_preprocessor:RFE:svc_penalty  \\\n",
       "0                                         NaN   \n",
       "1                                         NaN   \n",
       "2                                         NaN   \n",
       "3                                         NaN   \n",
       "4                                         NaN   \n",
       "5                                         NaN   \n",
       "6                                         NaN   \n",
       "7                                         NaN   \n",
       "8                                         NaN   \n",
       "9                                         NaN   \n",
       "10                                        NaN   \n",
       "\n",
       "   param_feature_preprocessor:fast_ica:n_components  \\\n",
       "0                                               NaN   \n",
       "1                                               NaN   \n",
       "2                                               NaN   \n",
       "3                                               NaN   \n",
       "4                                               NaN   \n",
       "5                                               NaN   \n",
       "6                                               NaN   \n",
       "7                                               NaN   \n",
       "8                                               NaN   \n",
       "9                                               NaN   \n",
       "10                                              NaN   \n",
       "\n",
       "   param_feature_preprocessor:kernel_pca:coef0  \\\n",
       "0                                          NaN   \n",
       "1                                    -0.867492   \n",
       "2                                          NaN   \n",
       "3                                          NaN   \n",
       "4                                          NaN   \n",
       "5                                          NaN   \n",
       "6                                    -0.156617   \n",
       "7                                          NaN   \n",
       "8                                          NaN   \n",
       "9                                          NaN   \n",
       "10                                         NaN   \n",
       "\n",
       "    param_feature_preprocessor:kernel_pca:degree  \\\n",
       "0                                            NaN   \n",
       "1                                            NaN   \n",
       "2                                            NaN   \n",
       "3                                            NaN   \n",
       "4                                            NaN   \n",
       "5                                            NaN   \n",
       "6                                            3.0   \n",
       "7                                            NaN   \n",
       "8                                            NaN   \n",
       "9                                            NaN   \n",
       "10                                           NaN   \n",
       "\n",
       "    param_feature_preprocessor:kernel_pca:gamma  \\\n",
       "0                                           NaN   \n",
       "1                                           NaN   \n",
       "2                                           NaN   \n",
       "3                                           NaN   \n",
       "4                                           NaN   \n",
       "5                                           NaN   \n",
       "6                                      0.012413   \n",
       "7                                           NaN   \n",
       "8                                           NaN   \n",
       "9                                           NaN   \n",
       "10                                     0.075397   \n",
       "\n",
       "    param_feature_preprocessor:nystroem_sampler:coef0  \\\n",
       "0                                                 NaN   \n",
       "1                                                 NaN   \n",
       "2                                                 NaN   \n",
       "3                                                 NaN   \n",
       "4                                                 NaN   \n",
       "5                                                 NaN   \n",
       "6                                                 NaN   \n",
       "7                                                 NaN   \n",
       "8                                                 NaN   \n",
       "9                                                 NaN   \n",
       "10                                                NaN   \n",
       "\n",
       "   param_feature_preprocessor:nystroem_sampler:degree  \\\n",
       "0                                                 NaN   \n",
       "1                                                 NaN   \n",
       "2                                                 NaN   \n",
       "3                                                 NaN   \n",
       "4                                                 NaN   \n",
       "5                                                 NaN   \n",
       "6                                                 NaN   \n",
       "7                                                 NaN   \n",
       "8                                                 NaN   \n",
       "9                                                 NaN   \n",
       "10                                                NaN   \n",
       "\n",
       "    param_feature_preprocessor:nystroem_sampler:gamma  \\\n",
       "0                                                 NaN   \n",
       "1                                                 NaN   \n",
       "2                                            0.000638   \n",
       "3                                            0.019826   \n",
       "4                                                 NaN   \n",
       "5                                                 NaN   \n",
       "6                                                 NaN   \n",
       "7                                                 NaN   \n",
       "8                                                 NaN   \n",
       "9                                                 NaN   \n",
       "10                                                NaN   \n",
       "\n",
       "    param_feature_preprocessor:RFE:lr_intercept_scaling  \n",
       "0                                                 NaN    \n",
       "1                                                 NaN    \n",
       "2                                                 NaN    \n",
       "3                                                 NaN    \n",
       "4                                                 NaN    \n",
       "5                                                 NaN    \n",
       "6                                                 NaN    \n",
       "7                                                 NaN    \n",
       "8                                                 NaN    \n",
       "9                                                 NaN    \n",
       "10                                                NaN    \n",
       "\n",
       "[11 rows x 103 columns]"
      ]
     },
     "execution_count": 34,
     "metadata": {},
     "output_type": "execute_result"
    }
   ],
   "source": [
    "df"
   ]
  },
  {
   "cell_type": "code",
   "execution_count": 20,
   "metadata": {
    "ExecuteTime": {
     "end_time": "2020-07-09T13:44:44.335752Z",
     "start_time": "2020-07-09T13:44:44.316056Z"
    }
   },
   "outputs": [
    {
     "data": {
      "text/plain": [
       "{'balancing:strategy': 'weighting',\n",
       " 'classifier:__choice__': 'MLPClassifier',\n",
       " 'data_preprocessing:categorical_transformer:categorical_encoding:__choice__': 'one_hot_encoding',\n",
       " 'data_preprocessing:categorical_transformer:category_coalescence:__choice__': 'minority_coalescer',\n",
       " 'data_preprocessing:numerical_transformer:imputation:strategy': 'median',\n",
       " 'data_preprocessing:numerical_transformer:rescaling:__choice__': 'normalize',\n",
       " 'feature_preprocessor:__choice__': 'pca',\n",
       " 'classifier:MLPClassifier:activation': 'logistic',\n",
       " 'classifier:MLPClassifier:alpha': 0.901602332619335,\n",
       " 'classifier:MLPClassifier:hidden_layer_depth': 1,\n",
       " 'classifier:MLPClassifier:num_nodes_per_layer': 74,\n",
       " 'classifier:MLPClassifier:solver': 'lbfgs',\n",
       " 'data_preprocessing:categorical_transformer:category_coalescence:minority_coalescer:minimum_fraction': 0.01585387722718517,\n",
       " 'feature_preprocessor:pca:keep_variance': 0.7488254697884216,\n",
       " 'feature_preprocessor:pca:whiten': 'True'}"
      ]
     },
     "execution_count": 20,
     "metadata": {},
     "output_type": "execute_result"
    }
   ],
   "source": [
    "df.iloc[4]['params'] # def \"non\"-regular params are optimal (num_nodes_per_layer=74)"
   ]
  },
  {
   "cell_type": "code",
   "execution_count": 12,
   "metadata": {
    "ExecuteTime": {
     "end_time": "2020-07-09T13:19:29.977189Z",
     "start_time": "2020-07-09T13:19:29.973781Z"
    },
    "scrolled": true
   },
   "outputs": [
    {
     "name": "stdout",
     "output_type": "stream",
     "text": [
      "[(0.360000, SimpleClassificationPipeline({'balancing:strategy': 'none', 'classifier:__choice__': 'MLPClassifier', 'data_preprocessing:categorical_transformer:categorical_encoding:__choice__': 'one_hot_encoding', 'data_preprocessing:categorical_transformer:category_coalescence:__choice__': 'no_coalescense', 'data_preprocessing:numerical_transformer:imputation:strategy': 'most_frequent', 'data_preprocessing:numerical_transformer:rescaling:__choice__': 'minmax', 'feature_preprocessor:__choice__': 'pca', 'classifier:MLPClassifier:activation': 'logistic', 'classifier:MLPClassifier:alpha': 0.9788636601465743, 'classifier:MLPClassifier:hidden_layer_depth': 1, 'classifier:MLPClassifier:num_nodes_per_layer': 157, 'classifier:MLPClassifier:solver': 'sgd', 'feature_preprocessor:pca:keep_variance': 0.8032615014953142, 'feature_preprocessor:pca:whiten': 'True'},\n",
      "dataset_properties={\n",
      "  'task': 1,\n",
      "  'sparse': False,\n",
      "  'multilabel': False,\n",
      "  'multiclass': False,\n",
      "  'target_type': 'classification',\n",
      "  'signed': False})),\n",
      "(0.260000, SimpleClassificationPipeline({'balancing:strategy': 'none', 'classifier:__choice__': 'MLPClassifier', 'data_preprocessing:categorical_transformer:categorical_encoding:__choice__': 'one_hot_encoding', 'data_preprocessing:categorical_transformer:category_coalescence:__choice__': 'no_coalescense', 'data_preprocessing:numerical_transformer:imputation:strategy': 'mean', 'data_preprocessing:numerical_transformer:rescaling:__choice__': 'standardize', 'feature_preprocessor:__choice__': 'fast_ica', 'classifier:MLPClassifier:activation': 'relu', 'classifier:MLPClassifier:alpha': 0.07573996181502682, 'classifier:MLPClassifier:hidden_layer_depth': 2, 'classifier:MLPClassifier:num_nodes_per_layer': 161, 'classifier:MLPClassifier:solver': 'sgd', 'feature_preprocessor:fast_ica:algorithm': 'deflation', 'feature_preprocessor:fast_ica:fun': 'exp', 'feature_preprocessor:fast_ica:whiten': 'True', 'feature_preprocessor:fast_ica:n_components': 1879},\n",
      "dataset_properties={\n",
      "  'task': 1,\n",
      "  'sparse': False,\n",
      "  'multilabel': False,\n",
      "  'multiclass': False,\n",
      "  'target_type': 'classification',\n",
      "  'signed': False})),\n",
      "(0.140000, SimpleClassificationPipeline({'balancing:strategy': 'weighting', 'classifier:__choice__': 'MLPClassifier', 'data_preprocessing:categorical_transformer:categorical_encoding:__choice__': 'one_hot_encoding', 'data_preprocessing:categorical_transformer:category_coalescence:__choice__': 'minority_coalescer', 'data_preprocessing:numerical_transformer:imputation:strategy': 'median', 'data_preprocessing:numerical_transformer:rescaling:__choice__': 'normalize', 'feature_preprocessor:__choice__': 'pca', 'classifier:MLPClassifier:activation': 'logistic', 'classifier:MLPClassifier:alpha': 0.901602332619335, 'classifier:MLPClassifier:hidden_layer_depth': 1, 'classifier:MLPClassifier:num_nodes_per_layer': 74, 'classifier:MLPClassifier:solver': 'lbfgs', 'data_preprocessing:categorical_transformer:category_coalescence:minority_coalescer:minimum_fraction': 0.01585387722718517, 'feature_preprocessor:pca:keep_variance': 0.7488254697884216, 'feature_preprocessor:pca:whiten': 'True'},\n",
      "dataset_properties={\n",
      "  'task': 1,\n",
      "  'sparse': False,\n",
      "  'multilabel': False,\n",
      "  'multiclass': False,\n",
      "  'target_type': 'classification',\n",
      "  'signed': False})),\n",
      "(0.120000, SimpleClassificationPipeline({'balancing:strategy': 'none', 'classifier:__choice__': 'MLPClassifier', 'data_preprocessing:categorical_transformer:categorical_encoding:__choice__': 'one_hot_encoding', 'data_preprocessing:categorical_transformer:category_coalescence:__choice__': 'minority_coalescer', 'data_preprocessing:numerical_transformer:imputation:strategy': 'mean', 'data_preprocessing:numerical_transformer:rescaling:__choice__': 'standardize', 'feature_preprocessor:__choice__': 'no_preprocessing', 'classifier:MLPClassifier:activation': 'relu', 'classifier:MLPClassifier:alpha': 0.0001, 'classifier:MLPClassifier:hidden_layer_depth': 1, 'classifier:MLPClassifier:num_nodes_per_layer': 32, 'classifier:MLPClassifier:solver': 'adam', 'data_preprocessing:categorical_transformer:category_coalescence:minority_coalescer:minimum_fraction': 0.01},\n",
      "dataset_properties={\n",
      "  'task': 1,\n",
      "  'sparse': False,\n",
      "  'multilabel': False,\n",
      "  'multiclass': False,\n",
      "  'target_type': 'classification',\n",
      "  'signed': False})),\n",
      "(0.120000, SimpleClassificationPipeline({'balancing:strategy': 'none', 'classifier:__choice__': 'MLPClassifier', 'data_preprocessing:categorical_transformer:categorical_encoding:__choice__': 'one_hot_encoding', 'data_preprocessing:categorical_transformer:category_coalescence:__choice__': 'minority_coalescer', 'data_preprocessing:numerical_transformer:imputation:strategy': 'median', 'data_preprocessing:numerical_transformer:rescaling:__choice__': 'quantile_transformer', 'feature_preprocessor:__choice__': 'kitchen_sinks', 'classifier:MLPClassifier:activation': 'relu', 'classifier:MLPClassifier:alpha': 0.6775160819754189, 'classifier:MLPClassifier:hidden_layer_depth': 1, 'classifier:MLPClassifier:num_nodes_per_layer': 80, 'classifier:MLPClassifier:solver': 'lbfgs', 'data_preprocessing:categorical_transformer:category_coalescence:minority_coalescer:minimum_fraction': 0.04969819964736147, 'data_preprocessing:numerical_transformer:rescaling:quantile_transformer:n_quantiles': 585, 'data_preprocessing:numerical_transformer:rescaling:quantile_transformer:output_distribution': 'uniform', 'feature_preprocessor:kitchen_sinks:gamma': 0.15876935135647346, 'feature_preprocessor:kitchen_sinks:n_components': 8920},\n",
      "dataset_properties={\n",
      "  'task': 1,\n",
      "  'sparse': False,\n",
      "  'multilabel': False,\n",
      "  'multiclass': False,\n",
      "  'target_type': 'classification',\n",
      "  'signed': False})),\n",
      "]\n"
     ]
    }
   ],
   "source": [
    "print(clf.show_models()) # Print final ensemble of models"
   ]
  },
  {
   "cell_type": "markdown",
   "metadata": {
    "heading_collapsed": true
   },
   "source": [
    "# Check run times"
   ]
  },
  {
   "cell_type": "code",
   "execution_count": null,
   "metadata": {
    "hidden": true
   },
   "outputs": [],
   "source": [
    "# https://github.com/automl/auto-sklearn/issues/142"
   ]
  },
  {
   "cell_type": "code",
   "execution_count": 51,
   "metadata": {
    "ExecuteTime": {
     "end_time": "2020-07-08T13:17:06.585175Z",
     "start_time": "2020-07-08T13:17:06.463198Z"
    },
    "hidden": true
   },
   "outputs": [
    {
     "name": "stdout",
     "output_type": "stream",
     "text": [
      "auto-sklearn.ipynb  \u001b[0m\u001b[01;34mopt-sklearn-pipe\u001b[0m/  plot_potentials.ipynb  Untitled.ipynb\r\n",
      "\u001b[01;34mbackup\u001b[0m/             \u001b[01;34mpaccs_old\u001b[0m/         \u001b[01;34msandbox\u001b[0m/\r\n"
     ]
    }
   ],
   "source": [
    "%ls"
   ]
  },
  {
   "cell_type": "markdown",
   "metadata": {
    "heading_collapsed": true
   },
   "source": [
    "# Inspecting results"
   ]
  },
  {
   "cell_type": "code",
   "execution_count": null,
   "metadata": {
    "hidden": true
   },
   "outputs": [],
   "source": [
    "# sprint_statistics() give you the number of algorithms that exceeded the time limit"
   ]
  },
  {
   "cell_type": "code",
   "execution_count": null,
   "metadata": {
    "hidden": true
   },
   "outputs": [],
   "source": [
    "# [x] List available classifiers, regressors\n",
    "# [x] How to add new ones?\n",
    "# [x] how to rescale the data\n",
    "# [x] Check run times / convergence\n",
    "# [x] How to inspect the best model so we could retrain it elsewhere --> Shapley values later --> just use refit()\n",
    "# [x] Can this be pickled / feathered\n",
    "# SimpleCLassificationPipeline?\n",
    "\n",
    "# data preproc (impute, rescale) > \n",
    "# balancing > \n",
    "# feature preproc (dim. red., polynomial features, etc.) >\n",
    "# model"
   ]
  },
  {
   "cell_type": "code",
   "execution_count": 12,
   "metadata": {
    "ExecuteTime": {
     "end_time": "2020-07-08T21:52:13.859027Z",
     "start_time": "2020-07-08T21:52:13.855735Z"
    },
    "hidden": true
   },
   "outputs": [
    {
     "data": {
      "text/plain": [
       "10"
      ]
     },
     "execution_count": 12,
     "metadata": {},
     "output_type": "execute_result"
    }
   ],
   "source": [
    "clf.per_run_time_limit"
   ]
  },
  {
   "cell_type": "code",
   "execution_count": 13,
   "metadata": {
    "ExecuteTime": {
     "end_time": "2020-07-08T21:52:19.530655Z",
     "start_time": "2020-07-08T21:52:19.529077Z"
    },
    "hidden": true
   },
   "outputs": [],
   "source": [
    "# import pickle\n",
    "# pickle.dump(clf, open('test.pkl', 'wb'))\n",
    "# clf2 = pickle.load(open('test.pkl', 'rb'))"
   ]
  },
  {
   "cell_type": "code",
   "execution_count": 15,
   "metadata": {
    "ExecuteTime": {
     "end_time": "2020-07-08T21:52:26.275258Z",
     "start_time": "2020-07-08T21:52:26.267971Z"
    },
    "hidden": true
   },
   "outputs": [
    {
     "name": "stdout",
     "output_type": "stream",
     "text": [
      "The 0th pipeline has feature preprocessor of autosklearn.pipeline Select Percentile Classification\n",
      "The 1th pipeline has feature preprocessor of autosklearn.pipeline NoPreprocessing\n"
     ]
    }
   ],
   "source": [
    "for i, (weight, pipeline) in enumerate(clf.get_models_with_weights()):\n",
    "    for stage_name, component in pipeline.named_steps.items():\n",
    "        if 'feature_preprocessor' in stage_name:\n",
    "            print(\n",
    "                \"The {}th pipeline has feature preprocessor of {}\".format(\n",
    "                    i,\n",
    "                    component.choice\n",
    "                )\n",
    "            )"
   ]
  },
  {
   "cell_type": "code",
   "execution_count": 16,
   "metadata": {
    "ExecuteTime": {
     "end_time": "2020-07-08T21:52:38.438515Z",
     "start_time": "2020-07-08T21:52:38.435328Z"
    },
    "hidden": true
   },
   "outputs": [
    {
     "name": "stdout",
     "output_type": "stream",
     "text": [
      "The 0th pipeline has data preprocessor of autosklearn.pipeline Feature Type Splitter\n",
      "The 1th pipeline has data preprocessor of autosklearn.pipeline Feature Type Splitter\n"
     ]
    }
   ],
   "source": [
    "for i, (weight, pipeline) in enumerate(clf.get_models_with_weights()):\n",
    "    for stage_name, component in pipeline.named_steps.items():\n",
    "        if 'data_preprocessing' in stage_name:\n",
    "            print(\n",
    "                \"The {}th pipeline has data preprocessor of {}\".format(\n",
    "                    i,\n",
    "                    component\n",
    "                )\n",
    "            )"
   ]
  },
  {
   "cell_type": "code",
   "execution_count": 17,
   "metadata": {
    "ExecuteTime": {
     "end_time": "2020-07-08T21:52:48.567315Z",
     "start_time": "2020-07-08T21:52:48.559701Z"
    },
    "hidden": true
   },
   "outputs": [
    {
     "data": {
      "text/plain": [
       "{'data_preprocessing': DataPreprocessor(categorical_features=None, config=None,\n",
       "                  dataset_properties={'multiclass': False, 'multilabel': False,\n",
       "                                      'signed': False, 'sparse': False,\n",
       "                                      'target_type': 'classification',\n",
       "                                      'task': 1},\n",
       "                  exclude=None, force_sparse_output=False, include=None,\n",
       "                  init_params=None, pipeline=None, random_state=None),\n",
       " 'balancing': Balancing(random_state=None, strategy='weighting'),\n",
       " 'feature_preprocessor': <autosklearn.pipeline.components.feature_preprocessing.FeaturePreprocessorChoice at 0x7fde126e9150>,\n",
       " 'classifier': <autosklearn.pipeline.components.classification.ClassifierChoice at 0x7fde33d9d810>}"
      ]
     },
     "execution_count": 17,
     "metadata": {},
     "output_type": "execute_result"
    }
   ],
   "source": [
    "clf.get_models_with_weights()[0][1].named_steps"
   ]
  },
  {
   "cell_type": "code",
   "execution_count": 18,
   "metadata": {
    "ExecuteTime": {
     "end_time": "2020-07-08T21:53:01.396055Z",
     "start_time": "2020-07-08T21:53:01.391385Z"
    },
    "hidden": true
   },
   "outputs": [
    {
     "data": {
      "text/plain": [
       "SelectPercentileClassification(percentile=70,\n",
       "                               random_state=RandomState(MT19937) at 0x7FDE33C94270,\n",
       "                               score_func=<function mutual_info_classif at 0x7fde1b4b7b00>)"
      ]
     },
     "execution_count": 18,
     "metadata": {},
     "output_type": "execute_result"
    }
   ],
   "source": [
    "clf.get_models_with_weights()[0][1].named_steps['feature_preprocessor'].choice"
   ]
  },
  {
   "cell_type": "code",
   "execution_count": 19,
   "metadata": {
    "ExecuteTime": {
     "end_time": "2020-07-08T21:53:13.191843Z",
     "start_time": "2020-07-08T21:53:13.183849Z"
    },
    "hidden": true
   },
   "outputs": [
    {
     "data": {
      "text/plain": [
       "DataPreprocessor(categorical_features=None, config=None,\n",
       "                 dataset_properties={'multiclass': False, 'multilabel': False,\n",
       "                                     'signed': False, 'sparse': False,\n",
       "                                     'target_type': 'classification',\n",
       "                                     'task': 1},\n",
       "                 exclude=None, force_sparse_output=False, include=None,\n",
       "                 init_params=None, pipeline=None, random_state=None)"
      ]
     },
     "execution_count": 19,
     "metadata": {},
     "output_type": "execute_result"
    }
   ],
   "source": [
    "clf.get_models_with_weights()[0][1].named_steps['data_preprocessing']"
   ]
  },
  {
   "cell_type": "code",
   "execution_count": 20,
   "metadata": {
    "ExecuteTime": {
     "end_time": "2020-07-08T21:53:17.246175Z",
     "start_time": "2020-07-08T21:53:17.243200Z"
    },
    "hidden": true
   },
   "outputs": [],
   "source": [
    "X1 = X\n",
    "X2 = clf.get_models_with_weights()[0][1].named_steps['data_preprocessing'].transform(X)"
   ]
  },
  {
   "cell_type": "code",
   "execution_count": 21,
   "metadata": {
    "ExecuteTime": {
     "end_time": "2020-07-08T21:53:18.447455Z",
     "start_time": "2020-07-08T21:53:18.439811Z"
    },
    "hidden": true
   },
   "outputs": [
    {
     "data": {
      "text/plain": [
       "array([[ 1.11062715, -1.97537216,  1.28093312, ...,  2.26133339,\n",
       "         2.94223568,  1.85859206],\n",
       "       [ 1.85174071, -0.31857619,  1.70141384, ...,  1.05319907,\n",
       "        -0.28052332,  0.20508028],\n",
       "       [ 1.59895779,  0.46162002,  1.58068176, ...,  1.92049953,\n",
       "         1.22203801,  0.12539296],\n",
       "       ...,\n",
       "       [ 0.71134504,  1.99286718,  0.67727268, ...,  0.38066081,\n",
       "        -1.20678361, -0.39368135],\n",
       "       [ 1.86035831,  2.27311007,  2.00116248, ...,  2.25524707,\n",
       "         2.04731503,  2.14081796],\n",
       "       [-1.82797427,  1.19921931, -1.83645265, ..., -1.77693928,\n",
       "        -0.06985134, -0.82587436]])"
      ]
     },
     "execution_count": 21,
     "metadata": {},
     "output_type": "execute_result"
    }
   ],
   "source": [
    "X2"
   ]
  },
  {
   "cell_type": "code",
   "execution_count": 22,
   "metadata": {
    "ExecuteTime": {
     "end_time": "2020-07-08T21:53:21.553594Z",
     "start_time": "2020-07-08T21:53:21.546592Z"
    },
    "hidden": true
   },
   "outputs": [
    {
     "data": {
      "text/plain": [
       "array([[ 1.13235294, -1.5026643 ,  1.26374006, ...,  1.71524826,\n",
       "         2.63555556,  1.88457808],\n",
       "       [ 1.76470588, -0.19005329,  1.61285862, ...,  0.89219446,\n",
       "        -0.10666667,  0.43549952],\n",
       "       [ 1.54901961,  0.42806394,  1.51261666, ...,  1.48305173,\n",
       "         1.17185185,  0.3656644 ],\n",
       "       ...,\n",
       "       [ 0.79166667,  1.64120782,  0.76253025, ...,  0.43402094,\n",
       "        -0.89481481, -0.08923375],\n",
       "       [ 1.77205882,  1.86323268,  1.86173522, ...,  1.7111019 ,\n",
       "         1.87407407,  2.13191077],\n",
       "       [-1.375     ,  1.01243339, -1.32457656, ..., -1.03586607,\n",
       "         0.07259259, -0.46799224]])"
      ]
     },
     "execution_count": 22,
     "metadata": {},
     "output_type": "execute_result"
    }
   ],
   "source": [
    "from sklearn.preprocessing import StandardScaler, MinMaxScaler\n",
    "from sklearn.preprocessing import RobustScaler\n",
    "RobustScaler().fit_transform(X)"
   ]
  },
  {
   "cell_type": "code",
   "execution_count": 23,
   "metadata": {
    "ExecuteTime": {
     "end_time": "2020-07-08T21:53:37.357526Z",
     "start_time": "2020-07-08T21:53:37.350948Z"
    },
    "hidden": true
   },
   "outputs": [
    {
     "data": {
      "text/plain": [
       "Configuration space object:\n",
       "  Hyperparameters:\n",
       "    categorical_transformer:categorical_encoding:__choice__, Type: Categorical, Choices: {no_encoding, one_hot_encoding}, Default: one_hot_encoding\n",
       "    categorical_transformer:category_coalescence:__choice__, Type: Categorical, Choices: {minority_coalescer, no_coalescense}, Default: minority_coalescer\n",
       "    categorical_transformer:category_coalescence:minority_coalescer:minimum_fraction, Type: UniformFloat, Range: [0.0001, 0.5], Default: 0.01, on log-scale\n",
       "    numerical_transformer:imputation:strategy, Type: Categorical, Choices: {mean, median, most_frequent}, Default: mean\n",
       "    numerical_transformer:rescaling:__choice__, Type: Categorical, Choices: {minmax, none, normalize, quantile_transformer, robust_scaler, standardize}, Default: standardize\n",
       "    numerical_transformer:rescaling:quantile_transformer:n_quantiles, Type: UniformInteger, Range: [10, 2000], Default: 1000\n",
       "    numerical_transformer:rescaling:quantile_transformer:output_distribution, Type: Categorical, Choices: {uniform, normal}, Default: uniform\n",
       "    numerical_transformer:rescaling:robust_scaler:q_max, Type: UniformFloat, Range: [0.7, 0.999], Default: 0.75\n",
       "    numerical_transformer:rescaling:robust_scaler:q_min, Type: UniformFloat, Range: [0.001, 0.3], Default: 0.25\n",
       "  Conditions:\n",
       "    categorical_transformer:category_coalescence:minority_coalescer:minimum_fraction | categorical_transformer:category_coalescence:__choice__ == 'minority_coalescer'\n",
       "    numerical_transformer:rescaling:quantile_transformer:n_quantiles | numerical_transformer:rescaling:__choice__ == 'quantile_transformer'\n",
       "    numerical_transformer:rescaling:quantile_transformer:output_distribution | numerical_transformer:rescaling:__choice__ == 'quantile_transformer'\n",
       "    numerical_transformer:rescaling:robust_scaler:q_max | numerical_transformer:rescaling:__choice__ == 'robust_scaler'\n",
       "    numerical_transformer:rescaling:robust_scaler:q_min | numerical_transformer:rescaling:__choice__ == 'robust_scaler'"
      ]
     },
     "execution_count": 23,
     "metadata": {},
     "output_type": "execute_result"
    }
   ],
   "source": [
    "clf.get_models_with_weights()[0][1].named_steps['data_preprocessing'].get_hyperparameter_search_space()"
   ]
  },
  {
   "cell_type": "code",
   "execution_count": 144,
   "metadata": {
    "ExecuteTime": {
     "end_time": "2020-07-08T13:57:13.504226Z",
     "start_time": "2020-07-08T13:57:13.458368Z"
    },
    "hidden": true
   },
   "outputs": [],
   "source": [
    "??autosklearn.pipeline.components.data_preprocessing.data_preprocessing.DataPreprocessor"
   ]
  },
  {
   "cell_type": "code",
   "execution_count": null,
   "metadata": {
    "hidden": true
   },
   "outputs": [],
   "source": []
  }
 ],
 "metadata": {
  "kernelspec": {
   "display_name": "automl",
   "language": "python",
   "name": "automl"
  },
  "language_info": {
   "codemirror_mode": {
    "name": "ipython",
    "version": 3
   },
   "file_extension": ".py",
   "mimetype": "text/x-python",
   "name": "python",
   "nbconvert_exporter": "python",
   "pygments_lexer": "ipython3",
   "version": "3.7.6"
  },
  "toc": {
   "base_numbering": 1,
   "nav_menu": {},
   "number_sections": true,
   "sideBar": true,
   "skip_h1_title": false,
   "title_cell": "Table of Contents",
   "title_sidebar": "Contents",
   "toc_cell": false,
   "toc_position": {},
   "toc_section_display": true,
   "toc_window_display": true
  }
 },
 "nbformat": 4,
 "nbformat_minor": 4
}
